{
 "cells": [
  {
   "cell_type": "code",
   "execution_count": null,
   "metadata": {},
   "outputs": [],
   "source": [
    "import numpy as np\n",
    "import pandas as pd \n",
    "import matplotlib.pyplot as plt\n",
    "from sklearn.preprocessing import StandardScaler\n",
    "from sklearn.model_selection import train_test_split\n",
    "from sklearn.model_selection import cross_val_score\n",
    "from sklearn.metrics import accuracy_score\n",
    "from sklearn.metrics import confusion_matrix"
   ]
  },
  {
   "cell_type": "code",
   "execution_count": null,
   "metadata": {},
   "outputs": [],
   "source": [
    "data=pd.read_csv('sleep.csv')\n",
    "# scaling the features dataa is same as data but feats are scaled\n",
    "labels=data['sl']\n",
    "data.drop('sl',axis=1,inplace=True)\n",
    "scaler=StandardScaler()\n",
    "scaled=scaler.fit_transform(data)\n",
    "scaled=pd.DataFrame(scaled,index=data.index,columns=data.columns)\n",
    "\n",
    "dataa=scaled.copy()\n",
    "dataa['sl']=labels\n",
    "dataa.head()"
   ]
  },
  {
   "cell_type": "code",
   "execution_count": null,
   "metadata": {},
   "outputs": [],
   "source": [
    "corr_matrix=dataa.corr()\n",
    "print(corr_matrix[\"sl\"].sort_values(ascending=False))\n",
    "pd.plotting.scatter_matrix(scaled)\n",
    "plt.show()"
   ]
  },
  {
   "cell_type": "code",
   "execution_count": null,
   "metadata": {},
   "outputs": [],
   "source": [
    "dataa.plot(kind=\"scatter\",x='rr',y=\"hr\",alpha=0.4,c=\"sl\",cmap=plt.get_cmap(\"jet\"),colorbar=True,ylabel=\"Heart Rate\",xlabel=\"Resperation Rate\",)\n",
    "dataa.plot(kind=\"scatter\",x='lm',y=\"rem\",alpha=0.4,c=\"sl\",cmap=plt.get_cmap(\"jet\"),colorbar=True,xlabel=\"Limb Movement\",ylabel=\"EyeMovement\")\n",
    "dataa.plot(kind=\"scatter\",x='t',y=\"sr.1\",alpha=0.4,c=\"sl\",cmap=plt.get_cmap(\"jet\"),colorbar=True,xlabel=\"Temprature\",ylabel=\"Sleeping Hours\")\n",
    "dataa.plot(kind=\"scatter\",x='sr',y=\"hr\",alpha=0.4,c=\"sl\",cmap=plt.get_cmap(\"jet\"),colorbar=True,xlabel=\"Snoring\",ylabel=\"Heart Rate\")"
   ]
  },
  {
   "cell_type": "code",
   "execution_count": null,
   "metadata": {},
   "outputs": [],
   "source": [
    "from sklearn.linear_model import SGDClassifier\n",
    "\n",
    "\n",
    "bin_cls=SGDClassifier(random_state=6)\n",
    "\n",
    "\n",
    "binaryl=labels.replace([1,2,3,4],1)\n",
    "X_trainb, X_testb, y_trainb, y_testb = train_test_split(\n",
    " scaled, binaryl, test_size=0.2, random_state=42)\n",
    "\n",
    "bin_cls.fit(X_trainb,y_trainb)\n",
    "\n",
    "train_pred=bin_cls.predict(X_trainb)\n",
    "bin_acc_train=accuracy_score(y_trainb,train_pred)\n",
    "print(\"Accuracy on trainset (SGD) =\" ,bin_acc_train)\n",
    "predictions_b=bin_cls.predict(X_testb)\n",
    "bin_acc_test=accuracy_score(y_testb,predictions_b)\n",
    "print(\"Accuracy on testset (SGD) =\",bin_acc_test)\n",
    "cv_sb=cross_val_score(bin_cls,X_trainb,y_trainb,scoring=\"accuracy\",cv=5)\n",
    "print(cv_sb)\n",
    "\n",
    "\n"
   ]
  },
  {
   "cell_type": "code",
   "execution_count": null,
   "metadata": {},
   "outputs": [],
   "source": [
    "X_train, X_test, y_train, y_test = train_test_split(\n",
    " scaled, labels, test_size=0.2, random_state=42)"
   ]
  },
  {
   "cell_type": "code",
   "execution_count": null,
   "metadata": {},
   "outputs": [],
   "source": [
    "from sklearn.ensemble import RandomForestClassifier\n",
    "\n",
    "\n",
    "\n",
    "forest=RandomForestClassifier(random_state=6)\n",
    "forest.fit(X_train,y_train)\n",
    "forest_trainpred=forest.predict(X_train)\n",
    "forest_acc_train=accuracy_score(y_train,forest_trainpred)\n",
    "print(\"Accuracy on training (Forest default) = \",forest_acc_train)\n",
    "forest_testpred=forest.predict(X_test)\n",
    "forest_acc_test=accuracy_score(y_test,forest_testpred)\n",
    "print(\"Accuracy on test (Forest default) = \",forest_acc_test)\n",
    "cv_s=cross_val_score(forest,X_train,y_train,scoring=\"accuracy\",cv=5)\n",
    "print(\"Accuracy on five folds (Forest default) \\n = \",cv_s)\n",
    "print(\"CV average =\",np.average(cv_s))\n",
    "conf_forest=confusion_matrix(y_test,forest_testpred)\n",
    "print(conf_forest)\n",
    "\n"
   ]
  },
  {
   "cell_type": "code",
   "execution_count": null,
   "metadata": {},
   "outputs": [],
   "source": [
    "from sklearn.model_selection import GridSearchCV\n",
    "param_grid = { \n",
    "    'n_estimators': [200, 500],\n",
    "    'max_features': ['auto', 'sqrt', 'log2'],\n",
    "    'max_depth' : [4,5,6,7,8],\n",
    "    'criterion' :['gini', 'entropy']\n",
    "}\n",
    "CV_rfc = GridSearchCV(estimator=forest, param_grid=param_grid,cv=5)\n",
    "CV_rfc.fit(X_train, y_train)\n",
    "CV_rfc.best_params_\n"
   ]
  },
  {
   "cell_type": "code",
   "execution_count": null,
   "metadata": {},
   "outputs": [],
   "source": [
    "forestb=RandomForestClassifier(random_state=6,criterion= 'gini',\n",
    " max_depth= 4,\n",
    " max_features= 'auto',\n",
    " n_estimators= 200)\n",
    "forestb.fit(X_train,y_train)\n",
    "forestb_trainpred=forestb.predict(X_train)\n",
    "forestb_acc_train=accuracy_score(y_train,forestb_trainpred)\n",
    "print(\"Accuracy on training(Forest best) = \",forestb_acc_train)\n",
    "forestb_testpred=forestb.predict(X_test)\n",
    "forestb_acc_test=accuracy_score(y_test,forestb_testpred)\n",
    "print(\"Accuracy on test (Forest best)= \",forestb_acc_test)\n",
    "cv_sb=cross_val_score(forestb,X_train,y_train,scoring=\"accuracy\",cv=5)\n",
    "print(\"Accuracy on five folds (Forest best) =\",cv_sb)\n",
    "print(\"CV average =\",np.average(cv_sb))\n",
    "conf_forestb=confusion_matrix(y_test,forestb_testpred)\n",
    "print(conf_forestb)\n"
   ]
  },
  {
   "cell_type": "code",
   "execution_count": null,
   "metadata": {},
   "outputs": [],
   "source": [
    "from sklearn.neighbors import KNeighborsClassifier\n",
    "nei=KNeighborsClassifier()\n",
    "k_range = list(range(1, 31))\n",
    "weight_options = [\"uniform\", \"distance\"]\n",
    "param_grid = dict(n_neighbors = k_range, weights = weight_options)\n",
    "  \n",
    "# defining parameter range\n",
    "grid = GridSearchCV(nei, param_grid, cv=5, scoring='accuracy', return_train_score=False,verbose=1)\n",
    "  \n",
    "# fitting the model for grid search\n",
    "grid_search=grid.fit(X_train, y_train)\n",
    "grid.best_params_\n",
    "print()"
   ]
  },
  {
   "cell_type": "code",
   "execution_count": null,
   "metadata": {},
   "outputs": [],
   "source": [
    "nei=KNeighborsClassifier(n_neighbors=1)\n",
    "nei.fit(X_train,y_train)\n",
    "nei_trainpred=nei.predict(X_train)\n",
    "nei_acc_train=accuracy_score(y_train,nei_trainpred)\n",
    "print(\"Accuracy on training (KN) = \",nei_acc_train)\n",
    "nei_testpred=nei.predict(X_test)\n",
    "nei_acc_test=accuracy_score(y_test,nei_testpred)\n",
    "print(\"Accuracy on test (KN) = \",nei_acc_test)\n",
    "cv_sk=cross_val_score(forest,X_train,y_train,scoring=\"accuracy\",cv=5)\n",
    "print(\"Accuracy on five folds (KN) =\",cv_sk)\n",
    "print(\"CV average =\",np.average(cv_sk))\n",
    "conf_nei=confusion_matrix(y_test,nei_testpred)\n",
    "print(conf_nei)"
   ]
  },
  {
   "cell_type": "code",
   "execution_count": null,
   "metadata": {},
   "outputs": [],
   "source": [
    "from sklearn.tree import DecisionTreeClassifier\n",
    "tree=DecisionTreeClassifier()\n",
    "param_grid = {'max_features': ['auto', 'sqrt', 'log2'],\n",
    "              'ccp_alpha': [0.1, .01, .001],\n",
    "              'max_depth' : [5, 6, 7, 8, 9],\n",
    "              'criterion' :['gini', 'entropy']\n",
    "             }\n",
    "tree_clas = DecisionTreeClassifier(random_state=1024)\n",
    "grid_search = GridSearchCV(estimator=tree, param_grid=param_grid, cv=5, verbose=True)\n",
    "grid_search.fit(X_train, y_train)\n",
    "grid_search.best_params_\n",
    "print()"
   ]
  },
  {
   "cell_type": "code",
   "execution_count": null,
   "metadata": {},
   "outputs": [],
   "source": [
    "tree=DecisionTreeClassifier(ccp_alpha= 0.001, criterion= 'gini', max_depth= 8, max_features= 'sqrt')\n",
    "tree.fit(X_train,y_train)\n",
    "tree_trainpred=tree.predict(X_train)\n",
    "tree_acc_train=accuracy_score(y_train,tree_trainpred)\n",
    "print(\"Accuracy on training (DecTree)= \",tree_acc_train)\n",
    "tree_testpred=tree.predict(X_test)\n",
    "tree_acc_test=accuracy_score(y_test,tree_testpred)\n",
    "print(\"Accuracy on test (DecTree) = \",tree_acc_test)\n",
    "cv_t=cross_val_score(tree,X_train,y_train,scoring=\"accuracy\",cv=5)\n",
    "\n",
    "print(\"Accuracy on five folds (DecTree) =\",cv_t)\n",
    "print(\"CV average =\",np.average(cv_t))\n",
    "\n",
    "conf_tree=confusion_matrix(y_test,tree_testpred)\n",
    "print(conf_tree)"
   ]
  },
  {
   "cell_type": "code",
   "execution_count": null,
   "metadata": {},
   "outputs": [],
   "source": [
    "from sklearn.linear_model import LogisticRegression\n",
    "import warnings\n",
    "warnings.filterwarnings('ignore')\n",
    "lr = LogisticRegression(random_state=6)\n",
    "parameters = {\n",
    "    'penalty' : ['l1','l2'], \n",
    "    'C'       : np.logspace(-3,3,7),\n",
    "    'solver'  : ['newton-cg', 'lbfgs', 'liblinear'],\n",
    "}\n",
    "clfa = GridSearchCV(lr,                   \n",
    "                   param_grid = parameters,   \n",
    "                   scoring='accuracy',        \n",
    "                   cv=5) \n",
    "clfa.fit(X_train,y_train)                   \n",
    "clfa.best_params_\n",
    "print()"
   ]
  },
  {
   "cell_type": "code",
   "execution_count": null,
   "metadata": {},
   "outputs": [],
   "source": [
    "lr = LogisticRegression(C= 0.1, penalty= 'l2', solver= 'newton-cg')\n",
    "lr.fit(X_train,y_train)\n",
    "lr_trainpred=lr.predict(X_train)\n",
    "lr_acc_train=accuracy_score(y_train,lr_trainpred)\n",
    "print(\"Accuracy on training (LogReg) = \",lr_acc_train)\n",
    "lr_testpred=lr.predict(X_test)\n",
    "lr_acc_test=accuracy_score(y_test,lr_testpred)\n",
    "print(\"Accuracy on test (LogReg) = \",lr_acc_test)\n",
    "cv_lr=cross_val_score(lr,X_train,y_train,scoring=\"accuracy\",cv=5)\n",
    "print(\"Accuracy on five folds (LogReg) =\",cv_lr)\n",
    "print(\"CV average =\",np.average(cv_lr))\n",
    "conf_lr=confusion_matrix(y_test,lr_testpred)\n",
    "print(conf_lr)"
   ]
  },
  {
   "cell_type": "code",
   "execution_count": null,
   "metadata": {},
   "outputs": [],
   "source": [
    "train_acc=np.array([bin_acc_train,forest_acc_train,tree_acc_train,nei_acc_train,lr_acc_train])\n",
    "\n",
    "test_acc=np.array([forest_acc_test,tree_acc_test,nei_acc_test,lr_acc_test])\n",
    "cv_acc=np.array([np.average(cv_sb),np.average(cv_t),np.average(cv_sk),np.average(cv_lr)])*100\n",
    "test_acc=test_acc*100\n",
    "print(train_acc)\n",
    "print(test_acc)\n",
    "fig = plt.figure(figsize = (10, 5))\n",
    "plt.ylim(90,100)\n",
    "plt.ylabel(\"Accuracy on Test Set %\")\n",
    "plt.xlabel(\"Algorithm\")\n",
    "plt.bar(height=test_acc,x=[\"Random Forest\",\"Decision Tree\",\"KNeighbors\",\"Logistic Regression\"], color =[\"darkgreen\",\"lightgreen\",\"darkcyan\",\"lightblue\"],\n",
    "        width = 0.6)\n",
    "plt.show()\n",
    "fig = plt.figure(figsize = (10, 5))\n",
    "plt.ylim(90,100)\n",
    "plt.ylabel(\"Average Accuracy on CFV %\")\n",
    "plt.xlabel(\"Algorithm\")\n",
    "plt.bar(height=cv_acc,x=[\"Random Forest\",\"Decision Tree\",\"KNeighbors\",\"Logistic Regression\"], color =[\"darkgreen\",\"lightgreen\",\"darkcyan\",\"lightblue\"],\n",
    "        width = 0.6)\n",
    "plt.show()\n",
    "print()"
   ]
  }
 ],
 "metadata": {
  "interpreter": {
   "hash": "916dbcbb3f70747c44a77c7bcd40155683ae19c65e1c03b4aa3499c5328201f1"
  },
  "kernelspec": {
   "display_name": "Python 3.8.10 64-bit",
   "language": "python",
   "name": "python3"
  },
  "language_info": {
   "codemirror_mode": {
    "name": "ipython",
    "version": 3
   },
   "file_extension": ".py",
   "mimetype": "text/x-python",
   "name": "python",
   "nbconvert_exporter": "python",
   "pygments_lexer": "ipython3",
   "version": "3.9.13"
  },
  "orig_nbformat": 4
 },
 "nbformat": 4,
 "nbformat_minor": 2
}
